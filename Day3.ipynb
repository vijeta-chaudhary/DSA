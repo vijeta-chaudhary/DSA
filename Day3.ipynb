{
  "nbformat": 4,
  "nbformat_minor": 0,
  "metadata": {
    "colab": {
      "provenance": []
    },
    "kernelspec": {
      "name": "python3",
      "display_name": "Python 3"
    },
    "language_info": {
      "name": "python"
    }
  },
  "cells": [
    {
      "cell_type": "markdown",
      "source": [
        "**Stack**"
      ],
      "metadata": {
        "id": "MKIjbIFCSpL2"
      }
    },
    {
      "cell_type": "code",
      "execution_count": null,
      "metadata": {
        "colab": {
          "base_uri": "https://localhost:8080/"
        },
        "id": "KBX5HnD5ShFU",
        "outputId": "18b446f5-12a9-4118-d3f0-bb9f4df01d4c"
      },
      "outputs": [
        {
          "output_type": "stream",
          "name": "stdout",
          "text": [
            "[56, 78, 99, 90, 12]\n"
          ]
        }
      ],
      "source": [
        "my_stack = []\n",
        "\n",
        "my_stack.append(56)\n",
        "my_stack.append(78)\n",
        "my_stack.append(99)\n",
        "my_stack.append(90)\n",
        "my_stack.append(12)\n",
        "\n",
        "print(my_stack)"
      ]
    },
    {
      "cell_type": "code",
      "source": [
        "my_stack.pop()\n",
        "print(my_stack)\n",
        "\n",
        "print(len(my_stack))\n",
        "print(type(my_stack))"
      ],
      "metadata": {
        "colab": {
          "base_uri": "https://localhost:8080/"
        },
        "id": "qd5GswXYWKp7",
        "outputId": "d2110123-188c-4744-9bfe-72eb4d37a080"
      },
      "execution_count": null,
      "outputs": [
        {
          "output_type": "stream",
          "name": "stdout",
          "text": [
            "[56, 78, 99, 90]\n",
            "4\n",
            "<class 'list'>\n"
          ]
        }
      ]
    },
    {
      "cell_type": "code",
      "source": [
        "class Stack:\n",
        "  def __init__(self):\n",
        "    self.item = []\n",
        "\n",
        "  def is_empty(self):\n",
        "    return len(self.item) == 0\n",
        "\n",
        "  def push(self,item):\n",
        "    self.item.append(item)\n",
        "\n",
        "  def pop(self):\n",
        "    if not self.is_empty():\n",
        "      return self.item.pop()\n",
        "    else:\n",
        "      raise IndexError(\"Pop from an empty stack is not possible\")\n",
        "\n",
        "  def peek(self):\n",
        "    if not self.is_empty():\n",
        "      return self.item[-1]\n",
        "    else:\n",
        "      return None\n",
        "\n",
        "  def size(self):\n",
        "    return len(self.item)\n",
        "\n",
        "  def print(self):\n",
        "    return self.item"
      ],
      "metadata": {
        "id": "5FFvLeK1X_LW"
      },
      "execution_count": null,
      "outputs": []
    },
    {
      "cell_type": "code",
      "source": [
        "my_stack = Stack()\n",
        "\n",
        "my_stack.push(33)\n",
        "my_stack.push(55)\n",
        "my_stack.push(45)\n",
        "my_stack.push(78)\n",
        "my_stack.push(66)\n",
        "my_stack.push(88)\n",
        "my_stack.print()\n"
      ],
      "metadata": {
        "colab": {
          "base_uri": "https://localhost:8080/"
        },
        "id": "Olph6fXdZFjt",
        "outputId": "42852b35-67d8-4ac8-eb36-1ef2d6223c88"
      },
      "execution_count": null,
      "outputs": [
        {
          "output_type": "execute_result",
          "data": {
            "text/plain": [
              "[33, 55, 45, 78, 66, 88]"
            ]
          },
          "metadata": {},
          "execution_count": 26
        }
      ]
    },
    {
      "cell_type": "code",
      "source": [
        "\n",
        "my_stack.pop()\n",
        "print(my_stack.peek())\n",
        "\n",
        "print(my_stack.is_empty())\n",
        "\n",
        "print(my_stack.size())\n",
        "\n",
        "my_stack.print()"
      ],
      "metadata": {
        "colab": {
          "base_uri": "https://localhost:8080/"
        },
        "id": "sOZduV62aoq6",
        "outputId": "6fdb15a9-7865-4bf9-905c-5fd49eaff82c"
      },
      "execution_count": null,
      "outputs": [
        {
          "output_type": "stream",
          "name": "stdout",
          "text": [
            "66\n",
            "False\n",
            "5\n"
          ]
        },
        {
          "output_type": "execute_result",
          "data": {
            "text/plain": [
              "[33, 55, 45, 78, 66]"
            ]
          },
          "metadata": {},
          "execution_count": 27
        }
      ]
    },
    {
      "cell_type": "markdown",
      "source": [
        "**Queue**"
      ],
      "metadata": {
        "id": "DYu9pF09fKGG"
      }
    },
    {
      "cell_type": "code",
      "source": [
        "class Queue:\n",
        "  def __init__(self):\n",
        "    self.item = []\n",
        "\n",
        "  def is_empty(self):\n",
        "    return len(self.item) == 0\n",
        "\n",
        "  def enqueue (self,item):\n",
        "    self.item.append(item)\n",
        "\n",
        "  def dequeue(self):\n",
        "    if not self.is_empty():\n",
        "      return self.item.pop(0)\n",
        "    else:\n",
        "      raise IndexError(\"Queue is empty\")\n",
        "\n",
        "  def peek(self):\n",
        "    if not self.is_empty():\n",
        "      return self.item[0]\n",
        "    else:\n",
        "      return None\n",
        "\n",
        "  def size(self):\n",
        "      return len(self.item)\n",
        "\n",
        "  def print(self):\n",
        "      return self.item\n"
      ],
      "metadata": {
        "id": "NtIg4gBic3BZ"
      },
      "execution_count": null,
      "outputs": []
    },
    {
      "cell_type": "code",
      "source": [
        "que = Queue()\n",
        "\n",
        "que.enqueue(11)\n",
        "que.enqueue(22)\n",
        "que.enqueue(55)\n",
        "que.enqueue(65)\n",
        "que.enqueue(47)\n",
        "\n",
        "que.print()"
      ],
      "metadata": {
        "colab": {
          "base_uri": "https://localhost:8080/"
        },
        "id": "RCzh45wed4pT",
        "outputId": "a81a06c9-b0fd-41af-d9f0-3f340b0e0b11"
      },
      "execution_count": null,
      "outputs": [
        {
          "output_type": "execute_result",
          "data": {
            "text/plain": [
              "[11, 22, 55, 65, 47]"
            ]
          },
          "metadata": {},
          "execution_count": 38
        }
      ]
    },
    {
      "cell_type": "code",
      "source": [
        "que.dequeue()\n",
        "\n",
        "que.print()"
      ],
      "metadata": {
        "colab": {
          "base_uri": "https://localhost:8080/"
        },
        "id": "ftYBrpZ4ehm8",
        "outputId": "56873802-7270-4924-9cbc-9713c7e1ff19"
      },
      "execution_count": null,
      "outputs": [
        {
          "output_type": "execute_result",
          "data": {
            "text/plain": [
              "[22, 55, 65, 47]"
            ]
          },
          "metadata": {},
          "execution_count": 39
        }
      ]
    }
  ]
}