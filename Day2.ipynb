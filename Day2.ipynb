{
  "nbformat": 4,
  "nbformat_minor": 0,
  "metadata": {
    "colab": {
      "provenance": []
    },
    "kernelspec": {
      "name": "python3",
      "display_name": "Python 3"
    },
    "language_info": {
      "name": "python"
    }
  },
  "cells": [
    {
      "cell_type": "markdown",
      "source": [
        "linklist access any of the element in the between where this is not allowed in list.\n",
        "list - item can be assignment because it is continouesly stored."
      ],
      "metadata": {
        "id": "_AW5MFBq9g_F"
      }
    },
    {
      "cell_type": "markdown",
      "source": [
        "Memory\n",
        "1. Global\n",
        "2. Local\n",
        "3. Heap\n",
        "4. Constant"
      ],
      "metadata": {
        "id": "hiJruyZ8-NOs"
      }
    },
    {
      "cell_type": "markdown",
      "source": [
        "Types of linklist\n",
        "1. Singly linklist - one node carry one value or one address(cannot change directly cannot assign) not continoues\n",
        "                   - it is an one way chain of data\n",
        "2. Doubly linklist - one node carry two address(can change direction)\n",
        "                   - it is an double way chain of data\n",
        "3. circular linklist -"
      ],
      "metadata": {
        "id": "zQkA7947_m0_"
      }
    },
    {
      "cell_type": "markdown",
      "source": [
        "Traversal:\n",
        "\n",
        "To traverse a singly linked list, you start from the head and follow the links until you reach the end of the list (where the link is null)."
      ],
      "metadata": {
        "id": "y5scq6hTeamU"
      }
    },
    {
      "cell_type": "code",
      "execution_count": null,
      "metadata": {
        "id": "Q1dzpiKa9d1O"
      },
      "outputs": [],
      "source": [
        "class node:\n",
        "  def __init__(self,data):\n",
        "    self.data = data\n",
        "    self.ref = None #keyword for empty value\n",
        "\n",
        "class linklist:\n",
        "  def __init__(self):\n",
        "    self.head = None\n",
        "\n",
        "  def print_LL(self):\n",
        "    if self.head is None:\n",
        "      print(\"Linklist is empty .... ! ! !\")\n",
        "    else:\n",
        "      n = self.head\n",
        "      while n is not None:\n",
        "        print(n.data)\n",
        "        n=n.ref\n",
        "\n",
        "  def add_begin(self,data):\n",
        "    new_node = node(data)\n",
        "    new_node.ref = self.head\n",
        "    self.head = new_node\n",
        "\n",
        "  def add_end(self, data):\n",
        "        new_node = node(data)\n",
        "        if not self.head:\n",
        "            self.head = new_node\n",
        "            return\n",
        "        current = self.head\n",
        "        while current.ref:\n",
        "            current = current.ref\n",
        "        current.ref = new_node\n",
        "\n",
        "  def delete(self,key):\n",
        "    ref=self.head\n",
        "    if ref & ref.data == key:\n",
        "      self.head = current.ref\n",
        "      current = None\n",
        "      return\n",
        "    prev = None\n",
        "    while current & current.data != key:\n",
        "      prev = current\n",
        "      current = current.next\n",
        "    if current == None:\n",
        "      return\n",
        "    prev.next = current.ref\n",
        "    current = None\n",
        "\n",
        "  def reverse(self):\n",
        "    prev = None\n",
        "    current = self.head\n",
        "    while current:\n",
        "      next_node = current.next\n",
        "      current.ref = prev\n",
        "      prev = current\n",
        "      current = next_node\n",
        "    self.head = prev"
      ]
    },
    {
      "cell_type": "code",
      "source": [
        "LL1 = linklist()\n",
        "\n",
        "LL1.add_begin(10)\n",
        "LL1.add_begin(20)\n",
        "LL1.add_begin(40)\n",
        "LL1.add_begin(80)\n",
        "LL1.print_LL()"
      ],
      "metadata": {
        "colab": {
          "base_uri": "https://localhost:8080/"
        },
        "id": "qveOpg0ldfY-",
        "outputId": "a06ad084-10a0-434f-c1a7-68081e604509"
      },
      "execution_count": null,
      "outputs": [
        {
          "output_type": "stream",
          "name": "stdout",
          "text": [
            "80\n",
            "40\n",
            "20\n",
            "10\n"
          ]
        }
      ]
    },
    {
      "cell_type": "code",
      "source": [
        "LL1.add_end(56)\n",
        "LL1.add_end(55)\n",
        "LL1.add_end(54)\n",
        "LL1.add_end(53)\n",
        "\n",
        "LL1.print_LL()"
      ],
      "metadata": {
        "colab": {
          "base_uri": "https://localhost:8080/"
        },
        "id": "V-_IC20IUG6W",
        "outputId": "13d0f0e6-ee4a-481b-d021-c8316e515eaf"
      },
      "execution_count": null,
      "outputs": [
        {
          "output_type": "stream",
          "name": "stdout",
          "text": [
            "80\n",
            "40\n",
            "20\n",
            "10\n",
            "56\n",
            "55\n",
            "54\n",
            "53\n"
          ]
        }
      ]
    },
    {
      "cell_type": "markdown",
      "source": [
        "adding elements in linklist\n",
        "1. at the begining\n",
        "2. at the end\n",
        "3. between the nodes\n",
        "\n",
        "steps to take\n",
        "1. create the node\n",
        "2. newly create node ref to head(or previous first node)\n",
        "3. head will be point to first node"
      ],
      "metadata": {
        "id": "iHcQf9PNedW7"
      }
    },
    {
      "cell_type": "code",
      "source": [],
      "metadata": {
        "id": "UKwss4PJegVQ"
      },
      "execution_count": null,
      "outputs": []
    },
    {
      "cell_type": "markdown",
      "source": [
        "**DoublyLinkList**\n",
        "\n",
        "have something present not None"
      ],
      "metadata": {
        "id": "YP9nrPJ-enE9"
      }
    },
    {
      "cell_type": "code",
      "source": [
        "class Node:\n",
        "  def __init__(self,data):\n",
        "    self.data = data\n",
        "    self.prev = None\n",
        "    self.next = None\n",
        "\n",
        "class DoublyLinkList:\n",
        "  def __init__(self):\n",
        "    self.head = None\n",
        "\n",
        "  def insert_front(self,data):\n",
        "    new_node = Node(data)\n",
        "    new_node.next = self.head\n",
        "    if self.head:\n",
        "      self.head.prev = new_node\n",
        "    self.head = new_node\n",
        "\n",
        "  def insert_back(self,data):\n",
        "    new_node = Node(data)\n",
        "    if not self.head:\n",
        "      self.head = new_node\n",
        "      return\n",
        "    current = self.head\n",
        "    while current.next:\n",
        "      current = current.next\n",
        "    current.next = new_node\n",
        "    new_node.prev = current\n",
        "\n",
        "  def reverse(self):\n",
        "    temp = None\n",
        "    current = self.head\n",
        "\n",
        "    while current:\n",
        "      temp = current.prev\n",
        "      current.prev = current.next\n",
        "      current.next = temp\n",
        "      current = current.prev\n",
        "    if temp:\n",
        "      self.head = temp.prev\n",
        "\n",
        "  def delete(self,key):\n",
        "    current = self.head\n",
        "    while current:\n",
        "      if current.data == key:\n",
        "        if current.prev:\n",
        "          current.prev.next = current.next\n",
        "        else:\n",
        "          self.head = current.next\n",
        "        if current.next:\n",
        "          current.next.prev = current.prev\n",
        "        current = None\n",
        "        return\n",
        "      current = current.next\n",
        "\n",
        "  def print_dll(self):\n",
        "    current = self.head\n",
        "    print(\" None <------->\")\n",
        "    while current:\n",
        "      print(current.data, end = \" <-------> \")\n",
        "      current = current.next\n",
        "    print(\"None\")\n",
        "    print()"
      ],
      "metadata": {
        "id": "d_1oBmogen-J"
      },
      "execution_count": null,
      "outputs": []
    },
    {
      "cell_type": "code",
      "source": [
        "dll = DoublyLinkList()\n",
        "\n",
        "dll.insert_front(22)\n",
        "dll.insert_front(44)\n",
        "dll.insert_front(66)\n",
        "dll.insert_front(88)\n",
        "\n",
        "dll.print_dll()"
      ],
      "metadata": {
        "colab": {
          "base_uri": "https://localhost:8080/"
        },
        "id": "kpkhmyUBgXer",
        "outputId": "5836550d-1e70-4013-c139-507dac2bdb39"
      },
      "execution_count": null,
      "outputs": [
        {
          "output_type": "stream",
          "name": "stdout",
          "text": [
            " None <------->\n",
            "88 <-------> 66 <-------> 44 <-------> 22 <-------> None\n",
            "\n"
          ]
        }
      ]
    },
    {
      "cell_type": "code",
      "source": [
        "dll.insert_back(11)\n",
        "dll.insert_back(33)\n",
        "dll.insert_back(55)\n",
        "dll.insert_back(77)\n",
        "\n",
        "dll.print_dll()"
      ],
      "metadata": {
        "colab": {
          "base_uri": "https://localhost:8080/"
        },
        "id": "h877DMuGpe8E",
        "outputId": "2ade228b-0383-46d6-d56b-242646c95bbb"
      },
      "execution_count": null,
      "outputs": [
        {
          "output_type": "stream",
          "name": "stdout",
          "text": [
            " None <------->\n",
            "88 <-------> 66 <-------> 44 <-------> 22 <-------> 11 <-------> 33 <-------> 55 <-------> 77 <-------> None\n",
            "\n"
          ]
        }
      ]
    },
    {
      "cell_type": "code",
      "source": [
        "dll.delete(22)\n",
        "dll.print_dll()\n",
        "\n",
        "dll.delete(55)\n",
        "dll.print_dll()\n",
        "\n",
        "dll.delete(44)\n",
        "dll.print_dll()"
      ],
      "metadata": {
        "colab": {
          "base_uri": "https://localhost:8080/"
        },
        "id": "yp_vgCYppvkd",
        "outputId": "00a88d20-98f0-4fd8-940c-18519c8db946"
      },
      "execution_count": null,
      "outputs": [
        {
          "output_type": "stream",
          "name": "stdout",
          "text": [
            " None <------->\n",
            "88 <-------> 66 <-------> 44 <-------> 11 <-------> 33 <-------> 55 <-------> 77 <-------> None\n",
            "\n",
            " None <------->\n",
            "88 <-------> 66 <-------> 44 <-------> 11 <-------> 33 <-------> 77 <-------> None\n",
            "\n",
            " None <------->\n",
            "88 <-------> 66 <-------> 11 <-------> 33 <-------> 77 <-------> None\n",
            "\n"
          ]
        }
      ]
    },
    {
      "cell_type": "code",
      "source": [
        "dll.reverse()\n",
        "dll.print_dll()"
      ],
      "metadata": {
        "colab": {
          "base_uri": "https://localhost:8080/"
        },
        "id": "AiEpVsaovjVQ",
        "outputId": "dc156379-56de-4239-d6a5-9a453cb88080"
      },
      "execution_count": null,
      "outputs": [
        {
          "output_type": "stream",
          "name": "stdout",
          "text": [
            " None <------->\n",
            "77 <-------> 33 <-------> 11 <-------> 66 <-------> 88 <-------> None\n",
            "\n"
          ]
        }
      ]
    },
    {
      "cell_type": "markdown",
      "source": [
        "**Circular LinkList**\n",
        "never ends always connected\n",
        "first pointer ko 1 node se increase krte hai\n",
        "second pointer ko 2 node se increase karte hai\n",
        "when both points meet at certain point that is where circularity starts"
      ],
      "metadata": {
        "id": "uveYczL60kbl"
      }
    },
    {
      "cell_type": "code",
      "source": [
        "class Node:\n",
        "  def __init__(self,data):\n",
        "    self.data = data\n",
        "    self.next = None\n",
        "\n",
        "class CircularLinkList:\n",
        "  def __init__(self):\n",
        "    self.head = None\n",
        "\n",
        "  def insert_end(self,data):\n",
        "    new_node = Node(data)\n",
        "    if not self.head:\n",
        "      self.head = new_node\n",
        "      new_node.next = self.head\n",
        "    else:\n",
        "      temp = self.head\n",
        "      while temp.next!=self.head:\n",
        "        temp = temp.next\n",
        "      temp.next = new_node\n",
        "      new_node.next = self.head\n",
        "\n",
        "  def print_cll(self):\n",
        "    if not self.head:\n",
        "      return\n",
        "    temp = self.head\n",
        "    while True:\n",
        "      print(temp.data, end = \" -----> \")\n",
        "      temp = temp.next\n",
        "      if temp == self.head:\n",
        "        break\n",
        "    print()"
      ],
      "metadata": {
        "id": "XLpIkc1s1SRC"
      },
      "execution_count": null,
      "outputs": []
    },
    {
      "cell_type": "code",
      "source": [
        "cll = CircularLinkList()\n",
        "\n",
        "cll.insert_end(25)\n",
        "cll.insert_end(26)\n",
        "cll.insert_end(27)\n",
        "cll.insert_end(28)\n",
        "\n",
        "cll.print_cll()"
      ],
      "metadata": {
        "colab": {
          "base_uri": "https://localhost:8080/"
        },
        "id": "l8ROb2At59Vt",
        "outputId": "2209c487-6278-497d-e228-3ec355736e4e"
      },
      "execution_count": null,
      "outputs": [
        {
          "output_type": "stream",
          "name": "stdout",
          "text": [
            "25 -----> 26 -----> 27 -----> 28 -----> \n"
          ]
        }
      ]
    }
  ]
}