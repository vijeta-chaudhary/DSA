{
  "nbformat": 4,
  "nbformat_minor": 0,
  "metadata": {
    "colab": {
      "provenance": []
    },
    "kernelspec": {
      "name": "python3",
      "display_name": "Python 3"
    },
    "language_info": {
      "name": "python"
    }
  },
  "cells": [
    {
      "cell_type": "markdown",
      "source": [
        "strip() ek Python string method hai jo ek string ke shuru aur ant mein se whitespace characters ko hata deta hai. Whitespace characters include spaces, tabs, and newline characters."
      ],
      "metadata": {
        "id": "OqBXBVi6Fs05"
      }
    },
    {
      "cell_type": "code",
      "source": [
        "string_example = \"   Hello, World!   \"\n",
        "stripped_string = string_example.strip()\n",
        "print(string_example)\n",
        "print(stripped_string)"
      ],
      "metadata": {
        "colab": {
          "base_uri": "https://localhost:8080/"
        },
        "id": "jLZiYaFZFhFh",
        "outputId": "8f00a56f-6564-4fbd-f044-e625ec8d937c"
      },
      "execution_count": null,
      "outputs": [
        {
          "output_type": "stream",
          "name": "stdout",
          "text": [
            "   Hello, World!   \n",
            "Hello, World!\n"
          ]
        }
      ]
    },
    {
      "cell_type": "markdown",
      "source": [
        "insert()"
      ],
      "metadata": {
        "id": "vYMYrmjGF6f7"
      }
    },
    {
      "cell_type": "code",
      "execution_count": null,
      "metadata": {
        "colab": {
          "base_uri": "https://localhost:8080/"
        },
        "id": "Mc4jxmnB_TJ9",
        "outputId": "16f9e70a-fa5f-4df7-e248-8229d919abd8"
      },
      "outputs": [
        {
          "output_type": "stream",
          "name": "stdout",
          "text": [
            "list1 : [4, 6, 7, 8]\n",
            "list2 : [4, 6, 65, 7, 8]\n"
          ]
        }
      ],
      "source": [
        "arr = [4,6,7,8]\n",
        "print(\"list1 :\",arr)\n",
        "arr.insert(2,65)\n",
        "print(\"list2 :\",arr)"
      ]
    },
    {
      "cell_type": "markdown",
      "source": [
        "extend()"
      ],
      "metadata": {
        "id": "hj2KOd_lF8rA"
      }
    },
    {
      "cell_type": "code",
      "source": [
        "arr = [4,6,7,8]\n",
        "print(\"list1 :\",arr)\n",
        "arr.extend([9,12,45])\n",
        "print(\"list2 :\",arr)"
      ],
      "metadata": {
        "colab": {
          "base_uri": "https://localhost:8080/"
        },
        "id": "86BKq7V8_pu9",
        "outputId": "cd438fe1-941f-4bbb-a82f-a35d4d4d4232"
      },
      "execution_count": null,
      "outputs": [
        {
          "output_type": "stream",
          "name": "stdout",
          "text": [
            "list1 : [4, 6, 7, 8]\n",
            "list2 : [4, 6, 7, 8, 9, 12, 45]\n"
          ]
        }
      ]
    },
    {
      "cell_type": "markdown",
      "source": [
        "append()"
      ],
      "metadata": {
        "id": "51tDwHbpF-U8"
      }
    },
    {
      "cell_type": "code",
      "source": [
        "arr = [4,6,7,8]\n",
        "print(\"list1 :\",arr)\n",
        "arr.append(45)\n",
        "print(\"list2 :\",arr)"
      ],
      "metadata": {
        "colab": {
          "base_uri": "https://localhost:8080/"
        },
        "id": "kjp9e4W9_4ga",
        "outputId": "6ffa36ef-b8bd-45c2-fe3d-bb2de2a31d83"
      },
      "execution_count": null,
      "outputs": [
        {
          "output_type": "stream",
          "name": "stdout",
          "text": [
            "list1 : [4, 6, 7, 8]\n",
            "list2 : [4, 6, 7, 8, 45]\n"
          ]
        }
      ]
    },
    {
      "cell_type": "markdown",
      "source": [
        "reverse"
      ],
      "metadata": {
        "id": "bymjEQYgF_wf"
      }
    },
    {
      "cell_type": "code",
      "source": [
        "arr.reverse()\n",
        "print(arr)"
      ],
      "metadata": {
        "colab": {
          "base_uri": "https://localhost:8080/"
        },
        "id": "sqjulNVFAAgK",
        "outputId": "0cc8a25f-3ccc-4373-a431-5d05a0d6c48d"
      },
      "execution_count": null,
      "outputs": [
        {
          "output_type": "stream",
          "name": "stdout",
          "text": [
            "[45, 8, 7, 6, 4]\n"
          ]
        }
      ]
    },
    {
      "cell_type": "markdown",
      "source": [
        "reversed"
      ],
      "metadata": {
        "id": "T2T1QD0vGBWo"
      }
    },
    {
      "cell_type": "code",
      "source": [
        "arr2=list[reversed(arr)]\n",
        "print(arr2)"
      ],
      "metadata": {
        "colab": {
          "base_uri": "https://localhost:8080/"
        },
        "id": "Xr5vZcUOAGfr",
        "outputId": "f44350ce-b3ff-4b77-cdf3-2b9c1fc82bfd"
      },
      "execution_count": null,
      "outputs": [
        {
          "output_type": "stream",
          "name": "stdout",
          "text": [
            "list[<list_reverseiterator object at 0x7c7b23a79e40>]\n"
          ]
        }
      ]
    },
    {
      "cell_type": "code",
      "source": [
        "arr2=reversed(arr)\n",
        "print(arr2)"
      ],
      "metadata": {
        "colab": {
          "base_uri": "https://localhost:8080/"
        },
        "id": "or_OqzDCATwy",
        "outputId": "0dae157c-11a8-41a5-b7f3-e9cc962cec43"
      },
      "execution_count": null,
      "outputs": [
        {
          "output_type": "stream",
          "name": "stdout",
          "text": [
            "<list_reverseiterator object at 0x7c7b23c3e470>\n"
          ]
        }
      ]
    },
    {
      "cell_type": "markdown",
      "source": [
        "remove()"
      ],
      "metadata": {
        "id": "NxtROYN2GJkO"
      }
    },
    {
      "cell_type": "code",
      "source": [
        "arr.remove(45)\n",
        "arr"
      ],
      "metadata": {
        "colab": {
          "base_uri": "https://localhost:8080/"
        },
        "id": "H8qwL7CwA9RT",
        "outputId": "77a9be3a-9928-4048-8483-0262b2a38a1c"
      },
      "execution_count": null,
      "outputs": [
        {
          "output_type": "execute_result",
          "data": {
            "text/plain": [
              "[8, 7, 6, 4]"
            ]
          },
          "metadata": {},
          "execution_count": 12
        }
      ]
    },
    {
      "cell_type": "markdown",
      "source": [
        "pop()"
      ],
      "metadata": {
        "id": "5nI19AOtGLMq"
      }
    },
    {
      "cell_type": "code",
      "source": [
        "arr.pop()\n",
        "arr"
      ],
      "metadata": {
        "colab": {
          "base_uri": "https://localhost:8080/"
        },
        "id": "kFA_0jIhBCVe",
        "outputId": "5e1e8314-1a6c-4703-e9fc-6f5ae3aac0d6"
      },
      "execution_count": null,
      "outputs": [
        {
          "output_type": "execute_result",
          "data": {
            "text/plain": [
              "[8, 7, 6]"
            ]
          },
          "metadata": {},
          "execution_count": 13
        }
      ]
    },
    {
      "cell_type": "markdown",
      "source": [
        "python doesn't include last element means less then format not less then equal to\n"
      ],
      "metadata": {
        "id": "43cjGuVNCB4E"
      }
    },
    {
      "cell_type": "markdown",
      "source": [
        "slicing : gives advantage on large array as particulater set of array"
      ],
      "metadata": {
        "id": "4cPorPrzBH4W"
      }
    },
    {
      "cell_type": "code",
      "source": [
        "arr=[4,6,7,8,90,12,45,76,13,89]\n",
        "slice_list=arr[2:]\n",
        "print(slice_list)\n",
        "slice_list=arr[2:8]\n",
        "print(slice_list)\n",
        "slice_list=arr[:]\n",
        "print(slice_list)"
      ],
      "metadata": {
        "colab": {
          "base_uri": "https://localhost:8080/"
        },
        "id": "r1WYZyBVBHIf",
        "outputId": "f3f83481-8552-4986-ffe8-03bd1ef7e0e0"
      },
      "execution_count": null,
      "outputs": [
        {
          "output_type": "stream",
          "name": "stdout",
          "text": [
            "[7, 8, 90, 12, 45, 76, 13, 89]\n",
            "[7, 8, 90, 12, 45, 76]\n"
          ]
        }
      ]
    },
    {
      "cell_type": "markdown",
      "source": [
        "negative slicing wen we want to access array from behind"
      ],
      "metadata": {
        "id": "yo4fRwJtCY2Z"
      }
    },
    {
      "cell_type": "code",
      "source": [
        "slice_list=arr[:-2]\n",
        "print(slice_list)\n",
        "slice_list=arr[-2:]\n",
        "print(slice_list)"
      ],
      "metadata": {
        "colab": {
          "base_uri": "https://localhost:8080/"
        },
        "id": "euc8HzLeCaH5",
        "outputId": "d2316512-a3c4-42f5-c4b8-ad14182256c7"
      },
      "execution_count": null,
      "outputs": [
        {
          "output_type": "stream",
          "name": "stdout",
          "text": [
            "[4, 6, 7, 8, 90, 12, 45, 76]\n",
            "[13, 89]\n"
          ]
        }
      ]
    },
    {
      "cell_type": "markdown",
      "source": [
        "slicing always have 3 element (start:end:steps)"
      ],
      "metadata": {
        "id": "37kWIO35C7bE"
      }
    },
    {
      "cell_type": "markdown",
      "source": [
        "positive step"
      ],
      "metadata": {
        "id": "2Idlg_prDRdd"
      }
    },
    {
      "cell_type": "code",
      "source": [
        "slice_list=arr[2:8:2]\n",
        "print(slice_list)"
      ],
      "metadata": {
        "colab": {
          "base_uri": "https://localhost:8080/"
        },
        "id": "ey56ZJt-DESH",
        "outputId": "ac94e31a-bc64-477d-e8af-a7910fe41249"
      },
      "execution_count": null,
      "outputs": [
        {
          "output_type": "stream",
          "name": "stdout",
          "text": [
            "[7, 90, 45]\n"
          ]
        }
      ]
    },
    {
      "cell_type": "markdown",
      "source": [
        "negative step"
      ],
      "metadata": {
        "id": "3ugHxWWFDTe3"
      }
    },
    {
      "cell_type": "code",
      "source": [
        "slice_list=arr[::-1]\n",
        "print(slice_list)"
      ],
      "metadata": {
        "colab": {
          "base_uri": "https://localhost:8080/"
        },
        "id": "B7Y0dOs6DUwA",
        "outputId": "f90d5de3-bdcd-4123-b700-faf56d92442b"
      },
      "execution_count": null,
      "outputs": [
        {
          "output_type": "stream",
          "name": "stdout",
          "text": [
            "[89, 13, 76, 45, 12, 90, 8, 7, 6, 4]\n"
          ]
        }
      ]
    },
    {
      "cell_type": "markdown",
      "source": [
        "list comprehension\n",
        "(i).square chahiye = x^2\n",
        "(ii).1 se 11 k bich me chahiye = 1-11\n",
        "(iii).(x mode 2 == 0) or (x % 2 == 1) or (x % 2 == 2)"
      ],
      "metadata": {
        "id": "KzdRWw3vDvNk"
      }
    },
    {
      "cell_type": "code",
      "source": [
        "for x in range (1,11):\n",
        "  if x%2==1:\n",
        "    print(x**2)"
      ],
      "metadata": {
        "colab": {
          "base_uri": "https://localhost:8080/"
        },
        "id": "17BPUvGdD7UE",
        "outputId": "70044518-1d47-4298-ea30-7f079443d08f"
      },
      "execution_count": null,
      "outputs": [
        {
          "output_type": "stream",
          "name": "stdout",
          "text": [
            "1\n",
            "9\n",
            "25\n",
            "49\n",
            "81\n"
          ]
        }
      ]
    },
    {
      "cell_type": "markdown",
      "source": [
        "list comprehension [first print: second range :condition third print]"
      ],
      "metadata": {
        "id": "Y18Wdy9mGQdE"
      }
    },
    {
      "cell_type": "code",
      "source": [
        "l2=[x**2 for x in range (1,11) if x%2==1]\n",
        "print(l2)"
      ],
      "metadata": {
        "colab": {
          "base_uri": "https://localhost:8080/"
        },
        "id": "WVkxvSLKEvuf",
        "outputId": "57eb7270-3404-49b8-e8a4-ff175b4a88e1"
      },
      "execution_count": null,
      "outputs": [
        {
          "output_type": "stream",
          "name": "stdout",
          "text": [
            "[1, 9, 25, 49, 81]\n"
          ]
        }
      ]
    },
    {
      "cell_type": "markdown",
      "source": [
        "\n",
        "List comprehension ek tarika hai jisse aap ek hi line mein list ko create kar sakte hain, aur isse code short aur easy to understand ho jata hai. Iska basic idea yeh hai ki aap ek expression ka istemal karte hue iterable (jaise ki list, tuple, ya range) par loop chalate hain aur ek naya list bana lete hain."
      ],
      "metadata": {
        "id": "5eotuIORHOtL"
      }
    },
    {
      "cell_type": "code",
      "source": [
        "arr=[]\n",
        "for x in range (1,11):\n",
        "  if x%2==1:\n",
        "    arr.append(x**2)\n",
        "print(arr)\n",
        "\n",
        "l2=[x**2 for x in range (1,11) if x%2==1]\n",
        "print(l2)"
      ],
      "metadata": {
        "colab": {
          "base_uri": "https://localhost:8080/"
        },
        "id": "luNRc-JgGh5b",
        "outputId": "76c6963d-ae08-46b2-e2fe-ce19d13168b8"
      },
      "execution_count": null,
      "outputs": [
        {
          "output_type": "stream",
          "name": "stdout",
          "text": [
            "[1, 9, 25, 49, 81]\n",
            "[1, 9, 25, 49, 81]\n"
          ]
        }
      ]
    },
    {
      "cell_type": "markdown",
      "source": [
        "sort()"
      ],
      "metadata": {
        "id": "-4Zwa0I8HQ9o"
      }
    },
    {
      "cell_type": "code",
      "source": [
        "ar=[2,3,4,5,6,1,0]\n",
        "ar.sort()\n",
        "print(ar)"
      ],
      "metadata": {
        "colab": {
          "base_uri": "https://localhost:8080/"
        },
        "id": "jd7-qdBuHSi7",
        "outputId": "10a7dce3-ac71-42e1-db2b-1b4de664837c"
      },
      "execution_count": null,
      "outputs": [
        {
          "output_type": "stream",
          "name": "stdout",
          "text": [
            "[0, 1, 2, 3, 4, 5, 6]\n"
          ]
        }
      ]
    },
    {
      "cell_type": "markdown",
      "source": [
        "sum()"
      ],
      "metadata": {
        "id": "4l1N0mfnHZyY"
      }
    },
    {
      "cell_type": "code",
      "source": [
        "ar=[2,3,4,5,6,1,0]\n",
        "s1=sum(ar)\n",
        "print(s1)"
      ],
      "metadata": {
        "colab": {
          "base_uri": "https://localhost:8080/"
        },
        "id": "MI8pZS9zHbIs",
        "outputId": "8f6886ef-25e6-4b57-e1d9-95e496decd17"
      },
      "execution_count": null,
      "outputs": [
        {
          "output_type": "stream",
          "name": "stdout",
          "text": [
            "21\n"
          ]
        }
      ]
    },
    {
      "cell_type": "markdown",
      "source": [
        "max()"
      ],
      "metadata": {
        "id": "zsOrT4U4HmBC"
      }
    },
    {
      "cell_type": "code",
      "source": [
        "ar=[2,3,4,5,6,1,0]\n",
        "s2=max(ar)\n",
        "print(s2)"
      ],
      "metadata": {
        "colab": {
          "base_uri": "https://localhost:8080/"
        },
        "id": "efAnj0ALHnyy",
        "outputId": "e63e3a15-00c7-43b6-d960-f5821bb5619b"
      },
      "execution_count": null,
      "outputs": [
        {
          "output_type": "stream",
          "name": "stdout",
          "text": [
            "6\n"
          ]
        }
      ]
    },
    {
      "cell_type": "markdown",
      "source": [
        "len()"
      ],
      "metadata": {
        "id": "_yGKMfJNHsNL"
      }
    },
    {
      "cell_type": "code",
      "source": [
        "ar=[2,3,4,5,6,1,0]\n",
        "s1=len(ar)\n",
        "print(s1)"
      ],
      "metadata": {
        "colab": {
          "base_uri": "https://localhost:8080/"
        },
        "id": "jUyx-D9CHtZ8",
        "outputId": "731b8c0f-058a-4e58-903e-4fe60c6a4365"
      },
      "execution_count": null,
      "outputs": [
        {
          "output_type": "stream",
          "name": "stdout",
          "text": [
            "7\n"
          ]
        }
      ]
    },
    {
      "cell_type": "markdown",
      "source": [
        "map() - map ek built-in function hai Python mein, jo ek function aur ek iterable (jaise ki list, tuple, ya string) ko lekar ek naya iterable banaata hai. Is function mein diye gaye function ko har element par apply karta hai aur ek naya iterable banaata hai."
      ],
      "metadata": {
        "id": "qHU415qRHyY4"
      }
    },
    {
      "cell_type": "code",
      "source": [
        "ar=list(map(int,input()))"
      ],
      "metadata": {
        "id": "4yHrSPehIDF8"
      },
      "execution_count": null,
      "outputs": []
    },
    {
      "cell_type": "code",
      "source": [
        "# Function to calculate square of a number\n",
        "def square(x):\n",
        "    return x ** 2\n",
        "\n",
        "# List of numbers\n",
        "numbers = [1, 2, 3, 4, 5]\n",
        "\n",
        "# Using map to apply the square function to each element of the list\n",
        "squares = map(square, numbers)\n",
        "\n",
        "# Converting the map object to a list\n",
        "squares_list = list(squares)\n",
        "\n",
        "print(squares_list)\n"
      ],
      "metadata": {
        "colab": {
          "base_uri": "https://localhost:8080/"
        },
        "id": "Pg9IRAnUINYV",
        "outputId": "e0136af5-338d-453e-ded2-12997a566e04"
      },
      "execution_count": null,
      "outputs": [
        {
          "output_type": "stream",
          "name": "stdout",
          "text": [
            "[1, 4, 9, 16, 25]\n"
          ]
        }
      ]
    },
    {
      "cell_type": "code",
      "source": [
        "# Function to double a number\n",
        "def double(x):\n",
        "    return x * 2\n",
        "\n",
        "# List of numbers\n",
        "numbers = [1, 2, 3, 4, 5]\n",
        "\n",
        "# Using map to apply the double function to each element of the list\n",
        "doubled_numbers = map(double, numbers)\n",
        "\n",
        "# Converting the map object to a list\n",
        "doubled_numbers_list = list(doubled_numbers)\n",
        "\n",
        "print(doubled_numbers_list)\n"
      ],
      "metadata": {
        "colab": {
          "base_uri": "https://localhost:8080/"
        },
        "id": "EL-aZwAmIdNV",
        "outputId": "7859de59-ca57-431a-8a66-9662a7fc055e"
      },
      "execution_count": null,
      "outputs": [
        {
          "output_type": "stream",
          "name": "stdout",
          "text": [
            "[2, 4, 6, 8, 10]\n"
          ]
        }
      ]
    },
    {
      "cell_type": "markdown",
      "source": [
        "string manipulation  ka use text data ke sath kai tarah ke tasks mein hota hai, jaise ki data cleaning, data analysis, aur text processing."
      ],
      "metadata": {
        "id": "-0KgkiUMIrd0"
      }
    },
    {
      "cell_type": "markdown",
      "source": [
        "1. Concatenation: Do strings ko ek saath jodna."
      ],
      "metadata": {
        "id": "jM6bH929Ja1o"
      }
    },
    {
      "cell_type": "code",
      "source": [
        "str1 = \"Hello\"\n",
        "str2 = \"World\"\n",
        "result = str1 + \" \" + str2\n",
        "print(result)\n",
        "# Output: Hello World\n"
      ],
      "metadata": {
        "colab": {
          "base_uri": "https://localhost:8080/"
        },
        "id": "Y_cu_Y5kIekx",
        "outputId": "5a89df5e-eab7-4410-df10-4b584692adff"
      },
      "execution_count": null,
      "outputs": [
        {
          "output_type": "stream",
          "name": "stdout",
          "text": [
            "Hello World\n"
          ]
        }
      ]
    },
    {
      "cell_type": "markdown",
      "source": [
        "2. Slicing: Strings ko specific portions mein divide karna."
      ],
      "metadata": {
        "id": "vncZOUukKJZp"
      }
    },
    {
      "cell_type": "code",
      "source": [
        "text = \"Python Programming\"\n",
        "substring = text[0:6]\n",
        "print(substring)\n",
        "# Output: Python"
      ],
      "metadata": {
        "colab": {
          "base_uri": "https://localhost:8080/"
        },
        "id": "L2mRGYg4KLAT",
        "outputId": "67e245cc-f38b-4913-cd0d-7b81d6ad3b21"
      },
      "execution_count": null,
      "outputs": [
        {
          "output_type": "stream",
          "name": "stdout",
          "text": [
            "Python\n"
          ]
        }
      ]
    },
    {
      "cell_type": "markdown",
      "source": [
        "3.Searching and Replacement: Kisi substring ko dhundhna aur use replace karna."
      ],
      "metadata": {
        "id": "V7O45H7NKQgP"
      }
    },
    {
      "cell_type": "code",
      "source": [
        "sentence = \"Python is easy and Python is fun\"\n",
        "new_sentence = sentence.replace(\"Python\", \"Java\")\n",
        "print(new_sentence)\n",
        "# Output: Java is easy and Java is fun\n"
      ],
      "metadata": {
        "colab": {
          "base_uri": "https://localhost:8080/"
        },
        "id": "XVGXQQmsKSqJ",
        "outputId": "31d18eca-531f-464f-97d0-8aa3eb6bff75"
      },
      "execution_count": null,
      "outputs": [
        {
          "output_type": "stream",
          "name": "stdout",
          "text": [
            "Java is easy and Java is fun\n"
          ]
        }
      ]
    },
    {
      "cell_type": "markdown",
      "source": [
        "4. Changing Case: Strings ke case ko badalna (uppercase, lowercase)."
      ],
      "metadata": {
        "id": "g5vnhN7sKTbR"
      }
    },
    {
      "cell_type": "code",
      "source": [
        "text = \"Hello World\"\n",
        "upper_text = text.upper()\n",
        "lower_text = text.lower()\n",
        "print(upper_text)\n",
        "print(lower_text)\n",
        "# Output: HELLO WORLD\n",
        "#         hello world\n"
      ],
      "metadata": {
        "colab": {
          "base_uri": "https://localhost:8080/"
        },
        "id": "nmEOjIHzKYhZ",
        "outputId": "4708cfcf-07ac-4dcf-efc5-141d6cd9cff3"
      },
      "execution_count": null,
      "outputs": [
        {
          "output_type": "stream",
          "name": "stdout",
          "text": [
            "HELLO WORLD\n",
            "hello world\n"
          ]
        }
      ]
    },
    {
      "cell_type": "markdown",
      "source": [
        "5. Splitting: String ko kisi delimiter ke basis par multiple parts mein divide karna."
      ],
      "metadata": {
        "id": "GMcEEtoRKaWL"
      }
    },
    {
      "cell_type": "code",
      "source": [
        "sentence = \"This is a sample sentence.\"\n",
        "words = sentence.split(\" \")\n",
        "print(words)\n",
        "# Output: ['This', 'is', 'a', 'sample', 'sentence.']\n"
      ],
      "metadata": {
        "colab": {
          "base_uri": "https://localhost:8080/"
        },
        "id": "W30W0-WFKiRA",
        "outputId": "b641e236-8737-4552-f78f-41a190d76bbd"
      },
      "execution_count": null,
      "outputs": [
        {
          "output_type": "stream",
          "name": "stdout",
          "text": [
            "['This', 'is', 'a', 'sample', 'sentence.']\n"
          ]
        }
      ]
    },
    {
      "cell_type": "markdown",
      "source": [
        "6. Join: join ek string manipulation technique hai jo strings ko ek saath jodne mein madad karta hai. Iska basic idea yeh hai ki aap ek delimiter (separator) ke sath kai strings ko concatenate (jod) karke ek bada string banate hain."
      ],
      "metadata": {
        "id": "jGGF67YVLYxE"
      }
    },
    {
      "cell_type": "code",
      "source": [
        "# List of words\n",
        "words = [\"Hello\", \"World\", \"Python\", \"Programming\"]\n",
        "\n",
        "# Using join to concatenate the words with a space separator\n",
        "sentence = ' '.join(words)\n",
        "\n",
        "print(sentence)\n",
        "# Output: Hello World Python Programming\n"
      ],
      "metadata": {
        "colab": {
          "base_uri": "https://localhost:8080/"
        },
        "id": "hSf1lQu9LhZO",
        "outputId": "7f203f0b-d61e-4319-a6d5-3f35b206ba17"
      },
      "execution_count": null,
      "outputs": [
        {
          "output_type": "stream",
          "name": "stdout",
          "text": [
            "Hello World Python Programming\n"
          ]
        }
      ]
    },
    {
      "cell_type": "markdown",
      "source": [
        "7. Reverse: reverse karna bhi common operation hai. Aap ek string ko reverse karne ke liye kuch tareeko ka istemal kar sakte hain."
      ],
      "metadata": {
        "id": "7MaiDKY5NZAR"
      }
    },
    {
      "cell_type": "markdown",
      "source": [
        "(i).Slice Notation:"
      ],
      "metadata": {
        "id": "RodvTFUPNm4F"
      }
    },
    {
      "cell_type": "code",
      "source": [
        "original_string = \"Hello\"\n",
        "reversed_string = original_string[::-1]\n",
        "print(reversed_string)\n",
        "# Output: olleH\n"
      ],
      "metadata": {
        "id": "0L2EFhMdNunR"
      },
      "execution_count": null,
      "outputs": []
    },
    {
      "cell_type": "markdown",
      "source": [
        "(ii).Using reversed function:"
      ],
      "metadata": {
        "id": "R-QGt-IBNxNR"
      }
    },
    {
      "cell_type": "code",
      "source": [
        "original_string = \"Hello\"\n",
        "reversed_string = ''.join(reversed(original_string))\n",
        "print(reversed_string)\n",
        "# Output: olleH\n"
      ],
      "metadata": {
        "id": "iJytXQoXN1yN"
      },
      "execution_count": null,
      "outputs": []
    },
    {
      "cell_type": "markdown",
      "source": [
        "(iii).Using Loop:"
      ],
      "metadata": {
        "id": "WGuhksdjN4of"
      }
    },
    {
      "cell_type": "code",
      "source": [
        "original_string = \"Hello\"\n",
        "reversed_string = \"\"\n",
        "for char in original_string:\n",
        "    reversed_string = char + reversed_string\n",
        "print(reversed_string)\n",
        "# Output: olleH"
      ],
      "metadata": {
        "id": "ppmdrszvN9tZ"
      },
      "execution_count": null,
      "outputs": []
    },
    {
      "cell_type": "markdown",
      "source": [
        "For every alphabet split we can use list and join method ka istemal kar sakte hain."
      ],
      "metadata": {
        "id": "UXyDWTK3L3Qq"
      }
    },
    {
      "cell_type": "code",
      "source": [
        "# Sentence\n",
        "sentence = \"This is a sample sentence.\"\n",
        "\n",
        "# Using list and join to split the sentence into words and then split each word into alphabets\n",
        "alphabet_list = list(' '.join(sentence.split()))\n",
        "\n",
        "print(alphabet_list)\n",
        "# Output: ['T', 'h', 'i', 's', 'i', 's', 'a', 's', 'a', 'm', 'p', 'l', 'e', 's', 'e', 'n', 't', 'e', 'n', 'c', 'e', '.']\n"
      ],
      "metadata": {
        "colab": {
          "base_uri": "https://localhost:8080/"
        },
        "id": "SfN4oU51MCAH",
        "outputId": "77a0886d-208e-4c5f-e1e7-3f2ae4315261"
      },
      "execution_count": null,
      "outputs": [
        {
          "output_type": "stream",
          "name": "stdout",
          "text": [
            "['T', 'h', 'i', 's', ' ', 'i', 's', ' ', 'a', ' ', 's', 'a', 'm', 'p', 'l', 'e', ' ', 's', 'e', 'n', 't', 'e', 'n', 'c', 'e', '.']\n"
          ]
        }
      ]
    },
    {
      "cell_type": "markdown",
      "source": [
        "check every alphabet not space should be present"
      ],
      "metadata": {
        "id": "k5FhwcjgMXTX"
      }
    },
    {
      "cell_type": "code",
      "source": [
        "# Sentence\n",
        "sentence = \"This is a sample sentence.\"\n",
        "\n",
        "# Filtering alphabets and ignoring spaces\n",
        "alphabets = [char for char in sentence if char.isalpha()]\n",
        "\n",
        "print(alphabets)\n",
        "# Output: ['T', 'h', 'i', 's', 'i', 's', 'a', 's', 'a', 'm', 'p', 'l', 'e', 's', 'e', 'n', 't', 'e', 'n', 'c', 'e']\n"
      ],
      "metadata": {
        "colab": {
          "base_uri": "https://localhost:8080/"
        },
        "id": "0x_pdLpbMd9X",
        "outputId": "27c2e072-dcfe-469d-eea8-a0b54baba05b"
      },
      "execution_count": null,
      "outputs": [
        {
          "output_type": "stream",
          "name": "stdout",
          "text": [
            "['T', 'h', 'i', 's', 'i', 's', 'a', 's', 'a', 'm', 'p', 'l', 'e', 's', 'e', 'n', 't', 'e', 'n', 'c', 'e']\n"
          ]
        }
      ]
    },
    {
      "cell_type": "markdown",
      "source": [
        "without built-in function"
      ],
      "metadata": {
        "id": "br6eR2glMnRb"
      }
    },
    {
      "cell_type": "code",
      "source": [
        "# Sentence\n",
        "sentence = \"This is a sample sentence.\"\n",
        "\n",
        "# Filtering alphabets and ignoring spaces without using built-in functions\n",
        "alphabets = []\n",
        "\n",
        "for char in sentence:\n",
        "    if 'a' <= char <= 'z' or 'A' <= char <= 'Z':\n",
        "        alphabets.append(char)\n",
        "\n",
        "print(alphabets)\n",
        "# Output: ['T', 'h', 'i', 's', 'i', 's', 'a', 's', 'a', 'm', 'p', 'l', 'e', 's', 'e', 'n', 't', 'e', 'n', 'c', 'e']\n"
      ],
      "metadata": {
        "colab": {
          "base_uri": "https://localhost:8080/"
        },
        "id": "35Wfj8B1MsFi",
        "outputId": "773d215d-04a6-4c7d-8f81-7f6ac074ff76"
      },
      "execution_count": null,
      "outputs": [
        {
          "output_type": "stream",
          "name": "stdout",
          "text": [
            "['T', 'h', 'i', 's', 'i', 's', 'a', 's', 'a', 'm', 'p', 'l', 'e', 's', 'e', 'n', 't', 'e', 'n', 'c', 'e']\n"
          ]
        }
      ]
    },
    {
      "cell_type": "code",
      "source": [
        "# Sentence\n",
        "sentence = \"This is a sample sentence.\"\n",
        "\n",
        "# Filtering alphabets and ignoring spaces without using built-in functions\n",
        "alphabets = []\n",
        "\n",
        "for char in sentence:\n",
        "    if 65 <= ord(char) <= 90 or 97 <= ord(char) <= 122:\n",
        "        alphabets.append(char)\n",
        "\n",
        "print(alphabets)\n",
        "# Output: ['T', 'h', 'i', 's', 'i', 's', 'a', 's', 'a', 'm', 'p', 'l', 'e', 's', 'e', 'n', 't', 'e', 'n', 'c', 'e']\n"
      ],
      "metadata": {
        "colab": {
          "base_uri": "https://localhost:8080/"
        },
        "id": "2bYK3vi7M_rj",
        "outputId": "c3462f53-2b0b-4af0-883d-07e2e861ff72"
      },
      "execution_count": null,
      "outputs": [
        {
          "output_type": "stream",
          "name": "stdout",
          "text": [
            "['T', 'h', 'i', 's', 'i', 's', 'a', 's', 'a', 'm', 'p', 'l', 'e', 's', 'e', 'n', 't', 'e', 'n', 'c', 'e']\n"
          ]
        }
      ]
    },
    {
      "cell_type": "markdown",
      "source": [
        " Map function ka use kisi function ko ek iterable ke har element par apply karne mein hota hai. Yahan ek example hai jisme map ka istemal karke strings ke har character ko uppercase kar rahe hain:"
      ],
      "metadata": {
        "id": "KELHclHZKwOz"
      }
    },
    {
      "cell_type": "code",
      "source": [
        "# Function to convert a character to uppercase\n",
        "def uppercase_char(char):\n",
        "    return char.upper()\n",
        "\n",
        "# String\n",
        "text = \"Hello World\"\n",
        "\n",
        "# Using map to apply the uppercase_char function to each character of the string\n",
        "uppercased_text = ''.join(map(uppercase_char, text))\n",
        "\n",
        "print(uppercased_text)\n",
        "# Output: HELLO WORLD"
      ],
      "metadata": {
        "colab": {
          "base_uri": "https://localhost:8080/"
        },
        "id": "gZK-ZKy4KxH_",
        "outputId": "8593569b-d7a4-4da0-ced6-68d5e697a7ff"
      },
      "execution_count": null,
      "outputs": [
        {
          "output_type": "stream",
          "name": "stdout",
          "text": [
            "HELLO WORLD\n"
          ]
        }
      ]
    },
    {
      "cell_type": "markdown",
      "source": [
        "\n",
        "1.   String elements are ummutable.\n",
        "2.   List elements are mutable."
      ],
      "metadata": {
        "id": "EgL9FldCR2J9"
      }
    },
    {
      "cell_type": "code",
      "source": [
        "a=\"yuvraj\"\n",
        "# a[3]='x'\n",
        "# print(a)"
      ],
      "metadata": {
        "colab": {
          "base_uri": "https://localhost:8080/",
          "height": 218
        },
        "id": "4M0kmpOQRX5x",
        "outputId": "051caa72-cbc7-415f-9d94-81d68cd1b415"
      },
      "execution_count": null,
      "outputs": [
        {
          "output_type": "error",
          "ename": "TypeError",
          "evalue": "ignored",
          "traceback": [
            "\u001b[0;31m---------------------------------------------------------------------------\u001b[0m",
            "\u001b[0;31mTypeError\u001b[0m                                 Traceback (most recent call last)",
            "\u001b[0;32m<ipython-input-49-c78ec40b2459>\u001b[0m in \u001b[0;36m<cell line: 2>\u001b[0;34m()\u001b[0m\n\u001b[1;32m      1\u001b[0m \u001b[0ma\u001b[0m\u001b[0;34m=\u001b[0m\u001b[0;34m\"yuvraj\"\u001b[0m\u001b[0;34m\u001b[0m\u001b[0;34m\u001b[0m\u001b[0m\n\u001b[0;32m----> 2\u001b[0;31m \u001b[0ma\u001b[0m\u001b[0;34m[\u001b[0m\u001b[0;36m3\u001b[0m\u001b[0;34m]\u001b[0m\u001b[0;34m=\u001b[0m\u001b[0;34m'x'\u001b[0m\u001b[0;34m\u001b[0m\u001b[0;34m\u001b[0m\u001b[0m\n\u001b[0m\u001b[1;32m      3\u001b[0m \u001b[0mprint\u001b[0m\u001b[0;34m(\u001b[0m\u001b[0ma\u001b[0m\u001b[0;34m)\u001b[0m\u001b[0;34m\u001b[0m\u001b[0;34m\u001b[0m\u001b[0m\n",
            "\u001b[0;31mTypeError\u001b[0m: 'str' object does not support item assignment"
          ]
        }
      ]
    },
    {
      "cell_type": "markdown",
      "source": [
        "\n",
        "*   First we need to convert string into list\n",
        "each and every operate\n",
        "\n"
      ],
      "metadata": {
        "id": "80u1VC3_SZG4"
      }
    },
    {
      "cell_type": "code",
      "source": [
        "li=list(a)\n",
        "li[3]='x'\n",
        "print(li)"
      ],
      "metadata": {
        "colab": {
          "base_uri": "https://localhost:8080/"
        },
        "id": "ckn5QQwUSlZt",
        "outputId": "8645d211-85ac-430f-a87e-93ee1b9ef0d3"
      },
      "execution_count": null,
      "outputs": [
        {
          "output_type": "stream",
          "name": "stdout",
          "text": [
            "['y', 'u', 'v', 'x', 'a', 'j']\n"
          ]
        }
      ]
    },
    {
      "cell_type": "markdown",
      "source": [
        "then convert back\n",
        "\n",
        "*   Convert back again in joins\n",
        "\n"
      ],
      "metadata": {
        "id": "9HFvnCmXS3tU"
      }
    },
    {
      "cell_type": "code",
      "source": [
        "st=\"\".join(li)\n",
        "print(st)"
      ],
      "metadata": {
        "colab": {
          "base_uri": "https://localhost:8080/"
        },
        "id": "raVyZ55xS9Vd",
        "outputId": "7f90ef38-1b2f-4d13-b480-c074365afaee"
      },
      "execution_count": null,
      "outputs": [
        {
          "output_type": "stream",
          "name": "stdout",
          "text": [
            "yuvxaj\n"
          ]
        }
      ]
    },
    {
      "cell_type": "markdown",
      "source": [
        "3 diff things added to change string (problem becoz string is immutable)"
      ],
      "metadata": {
        "id": "6YrVJvUmTwJC"
      }
    },
    {
      "cell_type": "code",
      "source": [
        "st=a[0:3]+'x'+a[4:]\n",
        "print(st)"
      ],
      "metadata": {
        "colab": {
          "base_uri": "https://localhost:8080/"
        },
        "id": "1eiXXVr7TZmj",
        "outputId": "1cfd2b63-5759-4a84-8bd2-8ce61b4422f4"
      },
      "execution_count": null,
      "outputs": [
        {
          "output_type": "stream",
          "name": "stdout",
          "text": [
            "yuvxaj\n",
            "yuvaj\n"
          ]
        }
      ]
    },
    {
      "cell_type": "markdown",
      "source": [
        "delete element from string\n",
        "can not perform function but can use slice as manipulation"
      ],
      "metadata": {
        "id": "-9P_YwWpUFvx"
      }
    },
    {
      "cell_type": "code",
      "source": [
        "st=a[0:3]+a[4:]\n",
        "print(st)"
      ],
      "metadata": {
        "colab": {
          "base_uri": "https://localhost:8080/"
        },
        "id": "Vp0_z4DqUIYC",
        "outputId": "5f55ece1-4807-4510-f8da-eabbfaa3784b"
      },
      "execution_count": null,
      "outputs": [
        {
          "output_type": "stream",
          "name": "stdout",
          "text": [
            "yuvaj\n"
          ]
        }
      ]
    },
    {
      "cell_type": "markdown",
      "source": [
        "sequencing in string -\n",
        "\n",
        "*   \\n - use to create a new line formating\n",
        "*   \n",
        "*   \n",
        "\n",
        "\n",
        "\n"
      ],
      "metadata": {
        "id": "9V8ihpaiUQrO"
      }
    },
    {
      "cell_type": "code",
      "source": [
        "a= \"vijet\\na chaundhary\"\n",
        "print(a)"
      ],
      "metadata": {
        "colab": {
          "base_uri": "https://localhost:8080/"
        },
        "id": "NTN-SE_8Uvjc",
        "outputId": "4a29b70a-ea02-4ada-8774-864b569bdf94"
      },
      "execution_count": null,
      "outputs": [
        {
          "output_type": "stream",
          "name": "stdout",
          "text": [
            "vijet\n",
            "a chaundhary\n"
          ]
        }
      ]
    },
    {
      "cell_type": "markdown",
      "source": [
        "Formatting\n",
        "\n",
        "*   String representing\n",
        "*   string in format\n",
        "\n"
      ],
      "metadata": {
        "id": "td8HmnV1U1ij"
      }
    },
    {
      "cell_type": "code",
      "source": [
        "str=\"{}{}{}\".format(\"we\",\"are\",\"learning\")\n",
        "print(str)"
      ],
      "metadata": {
        "colab": {
          "base_uri": "https://localhost:8080/"
        },
        "id": "iY6yvF8vU2s-",
        "outputId": "f3a0b984-9b3e-425f-f96a-3a0e185357ff"
      },
      "execution_count": null,
      "outputs": [
        {
          "output_type": "stream",
          "name": "stdout",
          "text": [
            "wearelearning\n",
            "we are learning\n",
            "are we learning\n"
          ]
        }
      ]
    },
    {
      "cell_type": "markdown",
      "source": [
        "Giving space"
      ],
      "metadata": {
        "id": "McM8UQAJVfsr"
      }
    },
    {
      "cell_type": "code",
      "source": [
        "str=\"{} {} {}\".format(\"we\",\"are\",\"learning\")\n",
        "print(str)"
      ],
      "metadata": {
        "id": "XvneOb3tVk3m"
      },
      "execution_count": null,
      "outputs": []
    },
    {
      "cell_type": "markdown",
      "source": [
        "Changing index"
      ],
      "metadata": {
        "id": "GZxvimBfVlnU"
      }
    },
    {
      "cell_type": "code",
      "source": [
        "str=\"{1} {0} {2}\".format(\"we\",\"are\",\"learning\")\n",
        "print(str)"
      ],
      "metadata": {
        "id": "JqEyDlB_VphP"
      },
      "execution_count": null,
      "outputs": []
    },
    {
      "cell_type": "markdown",
      "source": [
        "Key Specification"
      ],
      "metadata": {
        "id": "xGAoFbtUVsZo"
      }
    },
    {
      "cell_type": "code",
      "source": [
        "st= \"{a} {w} {l}\".format(w=\"we\", a=\"are\", l=\"learning\")\n",
        "print(st)"
      ],
      "metadata": {
        "colab": {
          "base_uri": "https://localhost:8080/"
        },
        "id": "oDZYZ33bVukc",
        "outputId": "0ea96824-3da0-491d-9020-1fd8b2b3e9c6"
      },
      "execution_count": null,
      "outputs": [
        {
          "output_type": "stream",
          "name": "stdout",
          "text": [
            "are we learning\n"
          ]
        }
      ]
    },
    {
      "cell_type": "markdown",
      "source": [
        "Are there any more advantage of formatting ?\n",
        "\n",
        "*   When binary format representation\n",
        "*   Converting number in binary representation"
      ],
      "metadata": {
        "id": "AcS18-d-WFEL"
      }
    },
    {
      "cell_type": "markdown",
      "source": [
        "1. Decimal Format"
      ],
      "metadata": {
        "id": "BxnUMO6ecXIK"
      }
    },
    {
      "cell_type": "code",
      "source": [
        "st=\"{0:b}\".format(4)\n",
        "print(st)"
      ],
      "metadata": {
        "colab": {
          "base_uri": "https://localhost:8080/"
        },
        "id": "x-4W-aE8WIK2",
        "outputId": "4c932c2e-e37a-4dd6-a1bc-1a2241c7b530"
      },
      "execution_count": null,
      "outputs": [
        {
          "output_type": "stream",
          "name": "stdout",
          "text": [
            "100\n"
          ]
        }
      ]
    },
    {
      "cell_type": "markdown",
      "source": [
        "\n",
        "*   till 2 decimal point = \" .2f\"\n",
        "*   till 3 decimal point = \" .3f\"\n",
        "\n"
      ],
      "metadata": {
        "id": "Ut87p_ZRXQuL"
      }
    },
    {
      "cell_type": "code",
      "source": [
        "st=\"{0:.2f}\".format(1/6)\n",
        "print(st)\n",
        "print(1/6)\n",
        "st=\"{0:.3f}\".format(1/6)\n",
        "print(st)"
      ],
      "metadata": {
        "colab": {
          "base_uri": "https://localhost:8080/"
        },
        "id": "RUYBf2ZsXalX",
        "outputId": "039123e5-3a10-4fcc-9875-6ead1fa58ce1"
      },
      "execution_count": null,
      "outputs": [
        {
          "output_type": "stream",
          "name": "stdout",
          "text": [
            "0.17\n",
            "0.16666666666666666\n",
            "0.167\n"
          ]
        }
      ]
    },
    {
      "cell_type": "markdown",
      "source": [
        "2. Hexadecimal Format"
      ],
      "metadata": {
        "id": "NwKVsTK1bYog"
      }
    },
    {
      "cell_type": "code",
      "source": [
        "st=\"{0:0x}\".format(15)\n",
        "print(st)"
      ],
      "metadata": {
        "colab": {
          "base_uri": "https://localhost:8080/"
        },
        "id": "5x0v2tfUbbYW",
        "outputId": "86748f83-3029-4c66-af72-8a655b9d2e40"
      },
      "execution_count": null,
      "outputs": [
        {
          "output_type": "stream",
          "name": "stdout",
          "text": [
            "f\n"
          ]
        }
      ]
    },
    {
      "cell_type": "markdown",
      "source": [
        "3. Octal Format"
      ],
      "metadata": {
        "id": "S92920W3bxrF"
      }
    },
    {
      "cell_type": "code",
      "source": [
        "st=\"{0:o}\".format(15)\n",
        "print(st)"
      ],
      "metadata": {
        "colab": {
          "base_uri": "https://localhost:8080/"
        },
        "id": "q2k_fR-wcKg2",
        "outputId": "99515dd8-3c38-4d40-aae5-e4f7cac0b53b"
      },
      "execution_count": null,
      "outputs": [
        {
          "output_type": "stream",
          "name": "stdout",
          "text": [
            "17\n"
          ]
        }
      ]
    },
    {
      "cell_type": "markdown",
      "source": [
        "String question\n",
        "1. Palindrome"
      ],
      "metadata": {
        "id": "EME3pm_JYIVF"
      }
    },
    {
      "cell_type": "code",
      "source": [
        "s=input()\n",
        "if s == s[::-1]:\n",
        "  print(\"Palindrome\")\n",
        "else:\n",
        "  print(\"No\")"
      ],
      "metadata": {
        "colab": {
          "base_uri": "https://localhost:8080/"
        },
        "id": "WEsgUd6xYOwR",
        "outputId": "552e1136-c32a-4c55-aa12-3943e074cd7b"
      },
      "execution_count": null,
      "outputs": [
        {
          "output_type": "stream",
          "name": "stdout",
          "text": [
            "a bba\n",
            "No\n"
          ]
        }
      ]
    },
    {
      "cell_type": "markdown",
      "source": [
        "2. Palindrome with condition : To check if a string is a palindrome, ignoring the cases of letters and any non-alphabetic characters"
      ],
      "metadata": {
        "id": "F07AUg1XYrt1"
      }
    },
    {
      "cell_type": "code",
      "source": [
        "def is_palindrome(s):\n",
        "    # Remove non-alphabetic characters and convert to lowercase\n",
        "    cleaned_string = ''.join(char.lower() for char in s if char.isalpha())\n",
        "\n",
        "    # Check if the cleaned string is equal to its reverse\n",
        "    return cleaned_string == cleaned_string[::-1]\n",
        "\n",
        "# Example usage:\n",
        "input_string = \"A man, a plan, a canal, Panama!\"\n",
        "result = is_palindrome(input_string)\n",
        "print(\"Is palindrome:\", result)\n"
      ],
      "metadata": {
        "colab": {
          "base_uri": "https://localhost:8080/"
        },
        "id": "o2fa94qNZaXu",
        "outputId": "2dc86c9b-9d72-4474-8137-ea39308346e7"
      },
      "execution_count": null,
      "outputs": [
        {
          "output_type": "stream",
          "name": "stdout",
          "text": [
            "Is palindrome: True\n"
          ]
        }
      ]
    },
    {
      "cell_type": "markdown",
      "source": [
        "To find the second most repeated word in a given string"
      ],
      "metadata": {
        "id": "SFV3kZh8ZVyG"
      }
    },
    {
      "cell_type": "code",
      "source": [
        "from collections import Counter\n",
        "\n",
        "def second_most_repeated_word(input_string):\n",
        "    # Split the string into words\n",
        "    words = input_string.split()\n",
        "\n",
        "    # Count the occurrences of each word\n",
        "    word_counts = Counter(words)\n",
        "\n",
        "    # Find the second most common word\n",
        "    second_most_common = word_counts.most_common(2)[-1][0]\n",
        "\n",
        "    return second_most_common\n",
        "\n",
        "# Example usage:\n",
        "input_string = \"this is a sample string with some repeated words this is a repeated word\"\n",
        "result = second_most_repeated_word(input_string)\n",
        "print(\"Second most repeated word:\", result)\n"
      ],
      "metadata": {
        "colab": {
          "base_uri": "https://localhost:8080/"
        },
        "id": "xy17hlrTZW09",
        "outputId": "810707a2-593d-4b31-a56c-83ef5265e2a6"
      },
      "execution_count": null,
      "outputs": [
        {
          "output_type": "stream",
          "name": "stdout",
          "text": [
            "Second most repeated word: is\n"
          ]
        }
      ]
    },
    {
      "cell_type": "code",
      "source": [
        "st= \"we are learning\"\n",
        "ans= \" \".join( w[::-1] for w in st.split())\n",
        "print(ans)"
      ],
      "metadata": {
        "colab": {
          "base_uri": "https://localhost:8080/"
        },
        "id": "n68CPdnJeWit",
        "outputId": "9b540340-d2a2-4277-d14e-1fe61194e924"
      },
      "execution_count": null,
      "outputs": [
        {
          "output_type": "stream",
          "name": "stdout",
          "text": [
            "ew era gninrael\n"
          ]
        }
      ]
    },
    {
      "cell_type": "code",
      "source": [
        "st = \"we are working\"\n",
        "a= []\n",
        "for char in st:\n",
        "  if 65 <= ord(char) <= 90 or 97 <= ord(char) <= 122:\n",
        "    a.append(char)\n",
        "print(a)"
      ],
      "metadata": {
        "colab": {
          "base_uri": "https://localhost:8080/"
        },
        "id": "0zU2C2Qae7gl",
        "outputId": "b58020d4-0cad-43bb-97f3-ca76ef6c1c04"
      },
      "execution_count": null,
      "outputs": [
        {
          "output_type": "stream",
          "name": "stdout",
          "text": [
            "['w', 'e', 'a', 'r', 'e', 'w', 'o', 'r', 'k', 'i', 'n', 'g']\n"
          ]
        }
      ]
    },
    {
      "cell_type": "markdown",
      "source": [
        "st = \"we are working \"\n",
        "st_rev = \"working are we\""
      ],
      "metadata": {
        "id": "vwzD2BnCju1k"
      }
    },
    {
      "cell_type": "code",
      "source": [
        "sentence = input()\n",
        "word_list=[]\n",
        "word= \"\"\n",
        "for char in sentence:\n",
        "  if char!= \" \":\n",
        "    word+=char\n",
        "  else:\n",
        "    if word:\n",
        "      word_list.insert(0, word)\n",
        "      work=\"\"\n",
        "if word:\n",
        "  word_list.insert(0,word)\n",
        "print(word_list)"
      ],
      "metadata": {
        "colab": {
          "base_uri": "https://localhost:8080/"
        },
        "id": "iFCwpcEpj9Qf",
        "outputId": "37c928c9-0851-4d45-b782-86e9fdd47fcc"
      },
      "execution_count": null,
      "outputs": [
        {
          "output_type": "stream",
          "name": "stdout",
          "text": [
            "are we good\n",
            "['arewegood', 'arewe', 'are']\n"
          ]
        }
      ]
    },
    {
      "cell_type": "code",
      "source": [
        "sentence=input()\n",
        "word_list=[]\n",
        "word=\"\"\n",
        "for char in sentence:\n",
        "  if char!=\" \": word+=char\n",
        "  else:\n",
        "    if word: word_list.insert(0, word)\n",
        "    word=\"\"\n",
        "if word: word_list.insert(0,word)\n",
        "print(word_list)"
      ],
      "metadata": {
        "colab": {
          "base_uri": "https://localhost:8080/"
        },
        "id": "DYrigLX9k3pu",
        "outputId": "8feeb8ae-1233-4ff3-96cb-7e6fa6ebf74e"
      },
      "execution_count": null,
      "outputs": [
        {
          "output_type": "stream",
          "name": "stdout",
          "text": [
            "are we good\n",
            "['good', 'we', 'are']\n"
          ]
        }
      ]
    },
    {
      "cell_type": "markdown",
      "source": [
        "Matrix\n",
        "1. addition"
      ],
      "metadata": {
        "id": "HJnVc6PUlvIK"
      }
    },
    {
      "cell_type": "code",
      "source": [
        "x=[[1,2,3],\n",
        "   [5,6,7],\n",
        "   [8,9,1]]\n",
        "\n",
        "y=[[4,5,6],\n",
        "   [7,8,9],\n",
        "   [2,1,4]]\n",
        "\n",
        "result = [[0,0,0],[0,0,0],[0,0,0]]\n",
        "\n",
        "for row in range (len(x)):\n",
        "  for col in range (len(x[0])):\n",
        "    result[row][col] = x[row][col] + y[row][col]\n",
        "print(result)"
      ],
      "metadata": {
        "colab": {
          "base_uri": "https://localhost:8080/"
        },
        "id": "Vjfqrh2elyZo",
        "outputId": "c5230680-6d72-4a6b-b849-dec1a80667a6"
      },
      "execution_count": null,
      "outputs": [
        {
          "output_type": "stream",
          "name": "stdout",
          "text": [
            "[[5, 7, 9], [12, 14, 16], [10, 10, 5]]\n"
          ]
        }
      ]
    },
    {
      "cell_type": "code",
      "source": [
        "a = \"Able was I, ere I saw Elba!\"\n",
        "b = ''.join(char.lower() for char in s if char.isalpha())\n",
        "b == b[::-1]\n",
        "if result:\n",
        "    print(f\"{a} is a palindrome.\")\n",
        "else:\n",
        "    print(f\"{a} is not a palindrome.\")"
      ],
      "metadata": {
        "colab": {
          "base_uri": "https://localhost:8080/"
        },
        "id": "JE9E5I84nsQm",
        "outputId": "090a230e-2e3e-480d-f858-9d3eba9cf8ee"
      },
      "execution_count": null,
      "outputs": [
        {
          "output_type": "stream",
          "name": "stdout",
          "text": [
            "Able was I, ere I saw Elba! is a palindrome.\n"
          ]
        }
      ]
    },
    {
      "cell_type": "code",
      "source": [
        "a = \"The quick brown for jumps over the lazy dog the dog jumps over the fox\"\n",
        "wc = {}\n",
        "w = a.split()\n",
        "for i in w:\n",
        "  wc[i] = wc.get(word, 0) + 1\n",
        "mcommon, smcommon = sorted(wc, key=wc.get, reverse=True)[:2]\n",
        "\n",
        "result = second_most_repeated_word(a)\n",
        "print(f\"The most repeated word is: {result}\")"
      ],
      "metadata": {
        "colab": {
          "base_uri": "https://localhost:8080/"
        },
        "id": "8TWMFol2oXFN",
        "outputId": "fa803937-ac2d-42ee-c7bd-bfdf0ece184f"
      },
      "execution_count": null,
      "outputs": [
        {
          "output_type": "stream",
          "name": "stdout",
          "text": [
            "The most repeated word is: the\n"
          ]
        }
      ]
    }
  ]
}