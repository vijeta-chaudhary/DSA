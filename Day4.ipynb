{
  "nbformat": 4,
  "nbformat_minor": 0,
  "metadata": {
    "colab": {
      "provenance": []
    },
    "kernelspec": {
      "name": "python3",
      "display_name": "Python 3"
    },
    "language_info": {
      "name": "python"
    }
  },
  "cells": [
    {
      "cell_type": "code",
      "source": [
        "def sum_of_digits(n):\n",
        "\n",
        "  total=0\n",
        "  while n>0:\n",
        "    rem = n%10\n",
        "    total = total +rem\n",
        "    n = n//10\n",
        "    return total\n",
        "  print(sum_of_digits(234))"
      ],
      "metadata": {
        "id": "u850aq2E5KoA"
      },
      "execution_count": null,
      "outputs": []
    },
    {
      "cell_type": "code",
      "execution_count": null,
      "metadata": {
        "colab": {
          "base_uri": "https://localhost:8080/"
        },
        "id": "2TvqIHoY5E5z",
        "outputId": "3929bc1c-e800-46e5-81ea-6da223981d56"
      },
      "outputs": [
        {
          "output_type": "stream",
          "name": "stdout",
          "text": [
            "4\n"
          ]
        }
      ],
      "source": [
        "#recurssion\n",
        "\n",
        "def sum_of_digit(n):\n",
        "  if n < 10:\n",
        "    return n\n",
        "  else:\n",
        "    return n%10 + sum_of_digits(n//10)\n",
        "\n",
        "print(sum_of_digits(234))\n"
      ]
    },
    {
      "cell_type": "code",
      "source": [
        "from re import M\n",
        "#binary_search\n",
        "def binary_search(arr,l,r,key):\n",
        "  while l<=r:\n",
        "    mid=(l+r)//2\n",
        "\n",
        "    if arr[mid]==key:\n",
        "      return mid\n",
        "    elif arr[mid]<key:\n",
        "      l=mid+1\n",
        "    else:\n",
        "      r=mid-1\n",
        "    return -1"
      ],
      "metadata": {
        "id": "LX6ukiX35N2w"
      },
      "execution_count": null,
      "outputs": []
    },
    {
      "cell_type": "code",
      "source": [
        "arr = [2,3,5,7,9]\n",
        "key = 7\n",
        "print(binary_search(arr,0,len(arr)-1,key))"
      ],
      "metadata": {
        "colab": {
          "base_uri": "https://localhost:8080/"
        },
        "id": "zgJsArWQ53v6",
        "outputId": "fa76e40c-8a0b-492f-c7f0-9098915f8f6f"
      },
      "execution_count": null,
      "outputs": [
        {
          "output_type": "stream",
          "name": "stdout",
          "text": [
            "-1\n"
          ]
        }
      ]
    },
    {
      "cell_type": "code",
      "source": [
        "a=10\n",
        "b=20\n",
        "print(\"Before Swap\")\n",
        "print(\"value of a \",a,\" and of b \",b)\n",
        "#swap a and b\n",
        "a=a+b\n",
        "b=a-b\n",
        "a=a-b\n",
        "print(\"After Swap\")\n",
        "print(\"value of a \",a,\" and of b \",b)\n",
        "a,b=b,a\n",
        "print(\"Again Swap\")\n",
        "print(\"value of a \",a,\" and of b \",b)"
      ],
      "metadata": {
        "colab": {
          "base_uri": "https://localhost:8080/"
        },
        "id": "lLCljzSO8NT5",
        "outputId": "b1d03f0d-0e97-4297-8008-0acc3ce6d32d"
      },
      "execution_count": null,
      "outputs": [
        {
          "output_type": "stream",
          "name": "stdout",
          "text": [
            "Before Swap\n",
            "value of a  10  and of b  20\n",
            "After Swap\n",
            "value of a  20  and of b  10\n",
            "Again Swap\n",
            "value of a  10  and of b  20\n"
          ]
        }
      ]
    },
    {
      "cell_type": "code",
      "source": [
        "def merge(arr):\n",
        "  if len(arr)>1:\n",
        "    mid=len(arr) //2\n",
        "    left= arr[:mid]\n",
        "    right= arr[mid:]\n",
        "    merge(left)\n",
        "    merger(right)\n",
        "\n",
        "    i=j=k=0\n",
        "    while i < len(left) and j < len(right):\n",
        "      if left[i]<= right[j]:\n",
        "        arr[k]=left[i]\n",
        "        i+=1\n",
        "      else:\n",
        "        arr[k] = left[j]\n",
        "        j+=1\n",
        "      k+=1\n",
        "    while i < len(left):\n",
        "      arr[k] = left[i]\n",
        "      i += 1\n",
        "      k += 1\n",
        "    while j < len(right):\n",
        "      arr[k] = right[j]\n",
        "      j += 1\n",
        "      k += 1\n",
        "  return arr"
      ],
      "metadata": {
        "id": "tBbPi38wRyEy"
      },
      "execution_count": null,
      "outputs": []
    },
    {
      "cell_type": "code",
      "source": [
        "arr = [3,1,6,11,0,2]\n",
        "print(merge(arr))"
      ],
      "metadata": {
        "colab": {
          "base_uri": "https://localhost:8080/",
          "height": 338
        },
        "id": "D8u3j28kTB8m",
        "outputId": "78c32198-41b6-4f08-db13-b848c1436f28"
      },
      "execution_count": null,
      "outputs": [
        {
          "output_type": "error",
          "ename": "NameError",
          "evalue": "ignored",
          "traceback": [
            "\u001b[0;31m---------------------------------------------------------------------------\u001b[0m",
            "\u001b[0;31mNameError\u001b[0m                                 Traceback (most recent call last)",
            "\u001b[0;32m<ipython-input-11-ce8aae952458>\u001b[0m in \u001b[0;36m<cell line: 2>\u001b[0;34m()\u001b[0m\n\u001b[1;32m      1\u001b[0m \u001b[0marr\u001b[0m \u001b[0;34m=\u001b[0m \u001b[0;34m[\u001b[0m\u001b[0;36m3\u001b[0m\u001b[0;34m,\u001b[0m\u001b[0;36m1\u001b[0m\u001b[0;34m,\u001b[0m\u001b[0;36m6\u001b[0m\u001b[0;34m,\u001b[0m\u001b[0;36m11\u001b[0m\u001b[0;34m,\u001b[0m\u001b[0;36m0\u001b[0m\u001b[0;34m,\u001b[0m\u001b[0;36m2\u001b[0m\u001b[0;34m]\u001b[0m\u001b[0;34m\u001b[0m\u001b[0;34m\u001b[0m\u001b[0m\n\u001b[0;32m----> 2\u001b[0;31m \u001b[0mprint\u001b[0m\u001b[0;34m(\u001b[0m\u001b[0mmerge\u001b[0m\u001b[0;34m(\u001b[0m\u001b[0marr\u001b[0m\u001b[0;34m)\u001b[0m\u001b[0;34m)\u001b[0m\u001b[0;34m\u001b[0m\u001b[0;34m\u001b[0m\u001b[0m\n\u001b[0m",
            "\u001b[0;32m<ipython-input-10-d28a9790f771>\u001b[0m in \u001b[0;36mmerge\u001b[0;34m(arr)\u001b[0m\n\u001b[1;32m      4\u001b[0m     \u001b[0mleft\u001b[0m\u001b[0;34m=\u001b[0m \u001b[0marr\u001b[0m\u001b[0;34m[\u001b[0m\u001b[0;34m:\u001b[0m\u001b[0mmid\u001b[0m\u001b[0;34m]\u001b[0m\u001b[0;34m\u001b[0m\u001b[0;34m\u001b[0m\u001b[0m\n\u001b[1;32m      5\u001b[0m     \u001b[0mright\u001b[0m\u001b[0;34m=\u001b[0m \u001b[0marr\u001b[0m\u001b[0;34m[\u001b[0m\u001b[0mmid\u001b[0m\u001b[0;34m:\u001b[0m\u001b[0;34m]\u001b[0m\u001b[0;34m\u001b[0m\u001b[0;34m\u001b[0m\u001b[0m\n\u001b[0;32m----> 6\u001b[0;31m     \u001b[0mmerge\u001b[0m\u001b[0;34m(\u001b[0m\u001b[0mleft\u001b[0m\u001b[0;34m)\u001b[0m\u001b[0;34m\u001b[0m\u001b[0;34m\u001b[0m\u001b[0m\n\u001b[0m\u001b[1;32m      7\u001b[0m     \u001b[0mmerger\u001b[0m\u001b[0;34m(\u001b[0m\u001b[0mright\u001b[0m\u001b[0;34m)\u001b[0m\u001b[0;34m\u001b[0m\u001b[0;34m\u001b[0m\u001b[0m\n\u001b[1;32m      8\u001b[0m \u001b[0;34m\u001b[0m\u001b[0m\n",
            "\u001b[0;32m<ipython-input-10-d28a9790f771>\u001b[0m in \u001b[0;36mmerge\u001b[0;34m(arr)\u001b[0m\n\u001b[1;32m      5\u001b[0m     \u001b[0mright\u001b[0m\u001b[0;34m=\u001b[0m \u001b[0marr\u001b[0m\u001b[0;34m[\u001b[0m\u001b[0mmid\u001b[0m\u001b[0;34m:\u001b[0m\u001b[0;34m]\u001b[0m\u001b[0;34m\u001b[0m\u001b[0;34m\u001b[0m\u001b[0m\n\u001b[1;32m      6\u001b[0m     \u001b[0mmerge\u001b[0m\u001b[0;34m(\u001b[0m\u001b[0mleft\u001b[0m\u001b[0;34m)\u001b[0m\u001b[0;34m\u001b[0m\u001b[0;34m\u001b[0m\u001b[0m\n\u001b[0;32m----> 7\u001b[0;31m     \u001b[0mmerger\u001b[0m\u001b[0;34m(\u001b[0m\u001b[0mright\u001b[0m\u001b[0;34m)\u001b[0m\u001b[0;34m\u001b[0m\u001b[0;34m\u001b[0m\u001b[0m\n\u001b[0m\u001b[1;32m      8\u001b[0m \u001b[0;34m\u001b[0m\u001b[0m\n\u001b[1;32m      9\u001b[0m     \u001b[0mi\u001b[0m\u001b[0;34m=\u001b[0m\u001b[0mj\u001b[0m\u001b[0;34m=\u001b[0m\u001b[0mk\u001b[0m\u001b[0;34m=\u001b[0m\u001b[0;36m0\u001b[0m\u001b[0;34m\u001b[0m\u001b[0;34m\u001b[0m\u001b[0m\n",
            "\u001b[0;31mNameError\u001b[0m: name 'merger' is not defined"
          ]
        }
      ]
    }
  ]
}